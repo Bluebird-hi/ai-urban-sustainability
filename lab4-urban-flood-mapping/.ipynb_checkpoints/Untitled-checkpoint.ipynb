{
 "cells": [
  {
   "cell_type": "code",
   "execution_count": 3,
   "id": "6009f280-e9ba-4568-b810-1194691375c5",
   "metadata": {
    "scrolled": true
   },
   "outputs": [
    {
     "name": "stdout",
     "output_type": "stream",
     "text": [
      "Failed to download data. Status code: 404\n"
     ]
    }
   ],
   "source": [
    "import requests\n",
    "import geopandas as gpd\n",
    "import json\n",
    "import fiona\n",
    "\n",
    "# Define the ArcGIS REST API URL\n",
    "base_url = \"https://hazards.fema.gov/gis/nfhl/rest/services/public/NFHL/MapServer/0/query\"\n",
    "\n",
    "# Define the parameters for the query\n",
    "params = {\n",
    "    \"where\": \"1=1\",  # Query all data (filtering can be applied here)\n",
    "    \"geometry\": {\n",
    "        \"xmin\": -75.2,  # Example bounding box (Philadelphia area)\n",
    "        \"ymin\": 39.8,\n",
    "        \"xmax\": -75.0,\n",
    "        \"ymax\": 40.1,\n",
    "        \"spatialReference\": {\"wkid\": 4326}\n",
    "    },\n",
    "    \"geometryType\": \"esriGeometryEnvelope\",\n",
    "    \"spatialRel\": \"esriSpatialRelIntersects\",\n",
    "    \"outFields\": \"*\",  # Request all fields\n",
    "    \"returnGeometry\": \"true\",\n",
    "    \"geometryPrecision\": 5,\n",
    "    \"f\": \"geojson\"  # Request GeoJSON format\n",
    "}\n",
    "\n",
    "# Perform the GET request\n",
    "response = requests.get(base_url, params=params)\n",
    "\n",
    "# Check for success\n",
    "if response.status_code == 200:\n",
    "    # Save the data to a GeoJSON file\n",
    "    with open(\"nfhl_data.geojson\", \"w\") as f:\n",
    "        f.write(response.text)\n",
    "    print(\"NFHL data downloaded successfully.\")\n",
    "else:\n",
    "    print(f\"Failed to download data. Status code: {response.status_code}\")\n"
   ]
  },
  {
   "cell_type": "code",
   "execution_count": null,
   "id": "80fd2692-09fb-4a05-b8e2-6869a5d8ba5e",
   "metadata": {},
   "outputs": [],
   "source": []
  },
  {
   "cell_type": "code",
   "execution_count": 4,
   "id": "5640312e-13f4-432d-8411-bdbb70b24352",
   "metadata": {},
   "outputs": [
    {
     "data": {
      "text/plain": [
       "'https://hazards.fema.gov/gis/nfhl/rest/services/public/NFHL/MapServer/0/query'"
      ]
     },
     "execution_count": 4,
     "metadata": {},
     "output_type": "execute_result"
    }
   ],
   "source": [
    "base_url"
   ]
  },
  {
   "cell_type": "code",
   "execution_count": null,
   "id": "16790239-ced8-4fe4-97f6-eb9e7c567698",
   "metadata": {},
   "outputs": [],
   "source": []
  },
  {
   "cell_type": "code",
   "execution_count": 5,
   "id": "990ea1e1-46f8-4174-9782-fef5c3634de7",
   "metadata": {},
   "outputs": [
    {
     "ename": "ModuleNotFoundError",
     "evalue": "No module named 'owslib'",
     "output_type": "error",
     "traceback": [
      "\u001b[0;31m---------------------------------------------------------------------------\u001b[0m",
      "\u001b[0;31mModuleNotFoundError\u001b[0m                       Traceback (most recent call last)",
      "Cell \u001b[0;32mIn[5], line 1\u001b[0m\n\u001b[0;32m----> 1\u001b[0m \u001b[38;5;28;01mfrom\u001b[39;00m \u001b[38;5;21;01mowslib\u001b[39;00m\u001b[38;5;21;01m.\u001b[39;00m\u001b[38;5;21;01mwms\u001b[39;00m \u001b[38;5;28;01mimport\u001b[39;00m WebMapService\n\u001b[1;32m      3\u001b[0m \u001b[38;5;66;03m# FEMA NFHL WMS endpoint\u001b[39;00m\n\u001b[1;32m      4\u001b[0m wms_url \u001b[38;5;241m=\u001b[39m \u001b[38;5;124m\"\u001b[39m\u001b[38;5;124mhttps://hazards.fema.gov/gis/nfhl/rest/services/public/NFHL/MapServer/WMSServer\u001b[39m\u001b[38;5;124m\"\u001b[39m\n",
      "\u001b[0;31mModuleNotFoundError\u001b[0m: No module named 'owslib'"
     ]
    }
   ],
   "source": [
    "from owslib.wms import WebMapService\n",
    "\n",
    "# FEMA NFHL WMS endpoint\n",
    "wms_url = \"https://hazards.fema.gov/gis/nfhl/rest/services/public/NFHL/MapServer/WMSServer\"\n",
    "\n",
    "# Connect to the WMS service\n",
    "wms = WebMapService(wms_url)\n",
    "\n",
    "# List available layers\n",
    "print(list(wms.contents))"
   ]
  },
  {
   "cell_type": "code",
   "execution_count": null,
   "id": "76d11c61-aba6-4027-b85c-51b3c532c482",
   "metadata": {},
   "outputs": [],
   "source": []
  },
  {
   "cell_type": "code",
   "execution_count": null,
   "id": "41620eb5-17ae-41d2-ac38-e92c391cb40b",
   "metadata": {},
   "outputs": [],
   "source": [
    "# Load the GeoJSON into GeoPandas for processing or visualization\n",
    "gdf = gpd.read_file(\"nfhl_data.geojson\")\n",
    "print(gdf.head())"
   ]
  }
 ],
 "metadata": {
  "kernelspec": {
   "display_name": "Python 3 (ipykernel)",
   "language": "python",
   "name": "python3"
  },
  "language_info": {
   "codemirror_mode": {
    "name": "ipython",
    "version": 3
   },
   "file_extension": ".py",
   "mimetype": "text/x-python",
   "name": "python",
   "nbconvert_exporter": "python",
   "pygments_lexer": "ipython3",
   "version": "3.12.7"
  }
 },
 "nbformat": 4,
 "nbformat_minor": 5
}
